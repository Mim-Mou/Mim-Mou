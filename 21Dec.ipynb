{
  "nbformat": 4,
  "nbformat_minor": 0,
  "metadata": {
    "colab": {
      "provenance": [],
      "authorship_tag": "ABX9TyMWIXM+WMvkYH4Kp0i+BaiP",
      "include_colab_link": true
    },
    "kernelspec": {
      "name": "python3",
      "display_name": "Python 3"
    },
    "language_info": {
      "name": "python"
    }
  },
  "cells": [
    {
      "cell_type": "markdown",
      "metadata": {
        "id": "view-in-github",
        "colab_type": "text"
      },
      "source": [
        "<a href=\"https://colab.research.google.com/github/Mim-Mou/Mim-Mou/blob/main/21Dec.ipynb\" target=\"_parent\"><img src=\"https://colab.research.google.com/assets/colab-badge.svg\" alt=\"Open In Colab\"/></a>"
      ]
    },
    {
      "cell_type": "code",
      "execution_count": null,
      "metadata": {
        "id": "mYaHDXJc6Y6t"
      },
      "outputs": [],
      "source": [
        "def addComplex(z1, z2):\n",
        "    return z1 + z2"
      ]
    },
    {
      "cell_type": "markdown",
      "source": [
        "A simple function that takes two complex numbers (z1 and z2) as input and returns their sum."
      ],
      "metadata": {
        "id": "_GIb2axv6e8S"
      }
    },
    {
      "cell_type": "code",
      "source": [
        "li1 = [complex(_, 2 + _) for _ in range(6)]\n",
        "li2 = [complex(_, 2 + _) for _ in range(2, 14, 2)]"
      ],
      "metadata": {
        "id": "yRG3ae_T6iDS"
      },
      "execution_count": null,
      "outputs": []
    },
    {
      "cell_type": "markdown",
      "source": [
        "\n",
        "\n",
        "li1: Creates a list of complex numbers where:\n",
        "\n",
        "    The real part is _, ranging from 0 to 5 (as range(6) produces 0, 1, 2, 3, 4, 5).\n",
        "    The imaginary part is 2 + _.\n",
        "\n",
        "li2: Creates another list of complex numbers where:\n",
        "\n",
        "    The real part is _, ranging from 2 to 12 in steps of 2 (range(2, 14, 2) produces 2, 4, 6, 8, 10, 12).\n",
        "    The imaginary part is 2 + _.\n",
        "\n"
      ],
      "metadata": {
        "id": "KcMTRgh-6leh"
      }
    },
    {
      "cell_type": "code",
      "source": [
        "\n",
        "li3 = []\n",
        "for i, j in zip(li1, li2):\n",
        "    li3.append(addComplex(i, j))"
      ],
      "metadata": {
        "id": "yEUYNfeo6ops"
      },
      "execution_count": null,
      "outputs": []
    },
    {
      "cell_type": "markdown",
      "source": [
        "\n",
        "\n",
        "    zip(li1, li2): Pairs elements from li1 and li2 element-wise (e.g., (li1[0], li2[0]), (li1[1], li2[1]), etc.).\n",
        "    Iterates through each pair (i, j) from li1 and li2.\n",
        "    Calls addComplex(i, j) to compute the sum of the complex numbers i and j.\n",
        "    Appends the result to li3.\n",
        "\n"
      ],
      "metadata": {
        "id": "NuBpwuyO6skv"
      }
    },
    {
      "cell_type": "code",
      "source": [
        "enc_mess = bytes(str(li3).encode('utf-16'))"
      ],
      "metadata": {
        "id": "ItnzE1sS6v5x"
      },
      "execution_count": null,
      "outputs": []
    },
    {
      "cell_type": "markdown",
      "source": [
        "\n",
        "\n",
        "    str(li3): Converts the list li3 to a string representation (e.g., '[(2+6j), (5+10j), ...]').\n",
        "    .encode('utf-16'): Encodes the string into a utf-16 byte sequence.\n",
        "    bytes(): Converts the encoded sequence to a bytes object.\n",
        "\n"
      ],
      "metadata": {
        "id": "XHaE06pK6zf-"
      }
    },
    {
      "cell_type": "code",
      "source": [
        "\n",
        "print(f\"Encoded Message Size of type{type(enc_mess)}: \",sys.getsizeof(enc_mess))\n",
        "print(f\"List Size of type{type(li3)}: \",sys.getsizeof(li3))\n",
        "print(f\"Encoded Message Size of type{type(str(li3))}: \",sys.getsizeof(str(li3)))"
      ],
      "metadata": {
        "colab": {
          "base_uri": "https://localhost:8080/",
          "height": 176
        },
        "id": "S6LXlTNM626s",
        "outputId": "660d87db-4446-4dfe-ec52-ac4f2c8266fa"
      },
      "execution_count": 1,
      "outputs": [
        {
          "output_type": "error",
          "ename": "NameError",
          "evalue": "name 'enc_mess' is not defined",
          "traceback": [
            "\u001b[0;31m---------------------------------------------------------------------------\u001b[0m",
            "\u001b[0;31mNameError\u001b[0m                                 Traceback (most recent call last)",
            "\u001b[0;32m<ipython-input-1-095ce61bb640>\u001b[0m in \u001b[0;36m<cell line: 1>\u001b[0;34m()\u001b[0m\n\u001b[0;32m----> 1\u001b[0;31m \u001b[0mprint\u001b[0m\u001b[0;34m(\u001b[0m\u001b[0;34mf\"Encoded Message Size of type{type(enc_mess)}: \"\u001b[0m\u001b[0;34m,\u001b[0m\u001b[0msys\u001b[0m\u001b[0;34m.\u001b[0m\u001b[0mgetsizeof\u001b[0m\u001b[0;34m(\u001b[0m\u001b[0menc_mess\u001b[0m\u001b[0;34m)\u001b[0m\u001b[0;34m)\u001b[0m\u001b[0;34m\u001b[0m\u001b[0;34m\u001b[0m\u001b[0m\n\u001b[0m\u001b[1;32m      2\u001b[0m \u001b[0mprint\u001b[0m\u001b[0;34m(\u001b[0m\u001b[0;34mf\"List Size of type{type(li3)}: \"\u001b[0m\u001b[0;34m,\u001b[0m\u001b[0msys\u001b[0m\u001b[0;34m.\u001b[0m\u001b[0mgetsizeof\u001b[0m\u001b[0;34m(\u001b[0m\u001b[0mli3\u001b[0m\u001b[0;34m)\u001b[0m\u001b[0;34m)\u001b[0m\u001b[0;34m\u001b[0m\u001b[0;34m\u001b[0m\u001b[0m\n\u001b[1;32m      3\u001b[0m \u001b[0mprint\u001b[0m\u001b[0;34m(\u001b[0m\u001b[0;34mf\"Encoded Message Size of type{type(str(li3))}: \"\u001b[0m\u001b[0;34m,\u001b[0m\u001b[0msys\u001b[0m\u001b[0;34m.\u001b[0m\u001b[0mgetsizeof\u001b[0m\u001b[0;34m(\u001b[0m\u001b[0mstr\u001b[0m\u001b[0;34m(\u001b[0m\u001b[0mli3\u001b[0m\u001b[0;34m)\u001b[0m\u001b[0;34m)\u001b[0m\u001b[0;34m)\u001b[0m\u001b[0;34m\u001b[0m\u001b[0;34m\u001b[0m\u001b[0m\n",
            "\u001b[0;31mNameError\u001b[0m: name 'enc_mess' is not defined"
          ]
        }
      ]
    },
    {
      "cell_type": "markdown",
      "source": [
        "\n",
        "\n",
        "Purpose: Compares the memory size (sys.getsizeof) of:\n",
        "\n",
        "    The bytes object (enc_mess).\n",
        "    The list of complex numbers (li3).\n",
        "    The string representation of li3 (str(li3)).\n",
        "\n"
      ],
      "metadata": {
        "id": "gmAVRarY7Bxx"
      }
    },
    {
      "cell_type": "code",
      "source": [
        "print(\"Original list after addition\", li3)\n",
        "print(f\"Encoded Message: {enc_mess}\")"
      ],
      "metadata": {
        "colab": {
          "base_uri": "https://localhost:8080/",
          "height": 158
        },
        "id": "pZjhCrn97DVp",
        "outputId": "69b10416-ed79-4433-c77f-0bb2fcf83d33"
      },
      "execution_count": 2,
      "outputs": [
        {
          "output_type": "error",
          "ename": "NameError",
          "evalue": "name 'li3' is not defined",
          "traceback": [
            "\u001b[0;31m---------------------------------------------------------------------------\u001b[0m",
            "\u001b[0;31mNameError\u001b[0m                                 Traceback (most recent call last)",
            "\u001b[0;32m<ipython-input-2-a387adab38bf>\u001b[0m in \u001b[0;36m<cell line: 1>\u001b[0;34m()\u001b[0m\n\u001b[0;32m----> 1\u001b[0;31m \u001b[0mprint\u001b[0m\u001b[0;34m(\u001b[0m\u001b[0;34m\"Original list after addition\"\u001b[0m\u001b[0;34m,\u001b[0m \u001b[0mli3\u001b[0m\u001b[0;34m)\u001b[0m\u001b[0;34m\u001b[0m\u001b[0;34m\u001b[0m\u001b[0m\n\u001b[0m\u001b[1;32m      2\u001b[0m \u001b[0mprint\u001b[0m\u001b[0;34m(\u001b[0m\u001b[0;34mf\"Encoded Message: {enc_mess}\"\u001b[0m\u001b[0;34m)\u001b[0m\u001b[0;34m\u001b[0m\u001b[0;34m\u001b[0m\u001b[0m\n",
            "\u001b[0;31mNameError\u001b[0m: name 'li3' is not defined"
          ]
        }
      ]
    },
    {
      "cell_type": "markdown",
      "source": [
        "\n",
        "\n",
        "The final li3 list after the addition of complex numbers.\n",
        "\n",
        "The encoded message (enc_mess).\n"
      ],
      "metadata": {
        "id": "UfAAXv_j7Uic"
      }
    },
    {
      "cell_type": "code",
      "source": [
        "#print(bytes(str(li3), 'utf-16'))\n"
      ],
      "metadata": {
        "id": "bwLOYhFt7Zob"
      },
      "execution_count": 3,
      "outputs": []
    },
    {
      "cell_type": "markdown",
      "source": [
        "Would directly encode str(li3) into utf-16 as a bytes object without using .encode() explicitly."
      ],
      "metadata": {
        "id": "nVePNy-77fwr"
      }
    },
    {
      "cell_type": "markdown",
      "source": [],
      "metadata": {
        "id": "1MtGJ7MV66fd"
      }
    }
  ]
}